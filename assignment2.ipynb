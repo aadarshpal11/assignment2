{
 "cells": [
  {
   "cell_type": "code",
   "execution_count": 1,
   "id": "1dac91b5-323e-4f8c-b435-6ae7a757862b",
   "metadata": {},
   "outputs": [],
   "source": [
    "#1. Discuss string slicing and provide examples.\n",
    "\n",
    "#Strings>> are characters arranged in an unchangeable order. Consider writing a sentence, a paragraph, or a piece of material.\n",
    "#String Slicing>> Each character in the string can be accessed by its index, or position. Substrings can be extracted using slicing."
   ]
  },
  {
   "cell_type": "code",
   "execution_count": 2,
   "id": "7fc32e79-68c0-4f97-aba2-a7567d5d7d3c",
   "metadata": {},
   "outputs": [
    {
     "data": {
      "text/plain": [
       "'a'"
      ]
     },
     "execution_count": 2,
     "metadata": {},
     "output_type": "execute_result"
    }
   ],
   "source": [
    "#Examples\n",
    "a = \"Aadarsh\"\n",
    "a[1]"
   ]
  },
  {
   "cell_type": "code",
   "execution_count": 3,
   "id": "82408595-0aae-4dcb-95af-0a11b626cd79",
   "metadata": {},
   "outputs": [
    {
     "data": {
      "text/plain": [
       "'h'"
      ]
     },
     "execution_count": 3,
     "metadata": {},
     "output_type": "execute_result"
    }
   ],
   "source": [
    "a[-1]"
   ]
  },
  {
   "cell_type": "code",
   "execution_count": 4,
   "id": "44b462dd-7096-4b75-b0a7-679744bc8135",
   "metadata": {},
   "outputs": [
    {
     "ename": "IndexError",
     "evalue": "string index out of range",
     "output_type": "error",
     "traceback": [
      "\u001b[0;31m---------------------------------------------------------------------------\u001b[0m",
      "\u001b[0;31mIndexError\u001b[0m                                Traceback (most recent call last)",
      "Cell \u001b[0;32mIn[4], line 1\u001b[0m\n\u001b[0;32m----> 1\u001b[0m \u001b[43ma\u001b[49m\u001b[43m[\u001b[49m\u001b[38;5;241;43m7\u001b[39;49m\u001b[43m]\u001b[49m \u001b[38;5;66;03m#it will throw an error as 7th index doesnt exist.\u001b[39;00m\n",
      "\u001b[0;31mIndexError\u001b[0m: string index out of range"
     ]
    }
   ],
   "source": [
    "a[7] #it will throw an error as 7th index doesnt exist."
   ]
  },
  {
   "cell_type": "code",
   "execution_count": 2,
   "id": "a3ac8df3-e49d-4025-8ffa-6b482bb97ade",
   "metadata": {},
   "outputs": [
    {
     "data": {
      "text/plain": [
       "'I a'"
      ]
     },
     "execution_count": 2,
     "metadata": {},
     "output_type": "execute_result"
    }
   ],
   "source": [
    "string = \"I am the best\"\n",
    "string[0:3] #3 is exlusive, [a, b]>> it will give result till b-1 index."
   ]
  },
  {
   "cell_type": "code",
   "execution_count": 3,
   "id": "21a56918-8814-4c35-8fc1-fa9d457c2ba4",
   "metadata": {},
   "outputs": [
    {
     "data": {
      "text/plain": [
       "'I am t'"
      ]
     },
     "execution_count": 3,
     "metadata": {},
     "output_type": "execute_result"
    }
   ],
   "source": [
    "string[:-7] #except the last 7 character"
   ]
  },
  {
   "cell_type": "code",
   "execution_count": null,
   "id": "4d8137f6-8587-480c-8a5a-d0cf33e2c7c0",
   "metadata": {},
   "outputs": [],
   "source": []
  },
  {
   "cell_type": "code",
   "execution_count": null,
   "id": "0cb56d0f-9dec-4b02-93a6-52cb0bdd831d",
   "metadata": {},
   "outputs": [],
   "source": []
  },
  {
   "cell_type": "code",
   "execution_count": 4,
   "id": "a65f007e-ce39-4e45-806e-425c4d8f6cae",
   "metadata": {},
   "outputs": [],
   "source": [
    "# 2. Explain the key features of lists in Python.\n",
    "\n",
    "#FEATURES:-\n",
    "#List are ordered collection of items\n",
    "#List is like a shopping bag which can store everything\n",
    "#can store any datatype(numbers, strings, even other lists!).\n",
    "\n",
    "l = [\"Aadarsh\", 2, 4.5, True, 7-9j]"
   ]
  },
  {
   "cell_type": "code",
   "execution_count": 5,
   "id": "60c45005-ddc0-4997-9f01-1ef3e0a8cf71",
   "metadata": {},
   "outputs": [
    {
     "data": {
      "text/plain": [
       "list"
      ]
     },
     "execution_count": 5,
     "metadata": {},
     "output_type": "execute_result"
    }
   ],
   "source": [
    "type(l)"
   ]
  },
  {
   "cell_type": "code",
   "execution_count": 6,
   "id": "e383e5fe-1aee-4f89-83f5-e9863a324ce8",
   "metadata": {},
   "outputs": [
    {
     "data": {
      "text/plain": [
       "['Aadarsh', 2, 4.5, False, (7-9j)]"
      ]
     },
     "execution_count": 6,
     "metadata": {},
     "output_type": "execute_result"
    }
   ],
   "source": [
    "#List are mutable\n",
    "l[3] = False\n",
    "l"
   ]
  },
  {
   "cell_type": "code",
   "execution_count": null,
   "id": "2595629a-02cc-4226-9ba1-e3e24b0b3136",
   "metadata": {},
   "outputs": [],
   "source": []
  },
  {
   "cell_type": "code",
   "execution_count": null,
   "id": "64294bb3-12a0-4f32-8271-760243e5ffe1",
   "metadata": {},
   "outputs": [],
   "source": []
  },
  {
   "cell_type": "code",
   "execution_count": 7,
   "id": "4d45839a-2c6f-4085-a846-cab6613b82b8",
   "metadata": {},
   "outputs": [
    {
     "data": {
      "text/plain": [
       "['Aadarsh', 2, 4.5, False, (7-9j)]"
      ]
     },
     "execution_count": 7,
     "metadata": {},
     "output_type": "execute_result"
    }
   ],
   "source": [
    "#3. Describe how to access, modify, and delete elements in a list with examples.\n",
    "\n",
    "l"
   ]
  },
  {
   "cell_type": "code",
   "execution_count": 8,
   "id": "f65e379b-94b7-4aac-ad30-a97e61ae1d02",
   "metadata": {},
   "outputs": [
    {
     "data": {
      "text/plain": [
       "'Aadarsh'"
      ]
     },
     "execution_count": 8,
     "metadata": {},
     "output_type": "execute_result"
    }
   ],
   "source": [
    "#access\n",
    "\n",
    "l[0]"
   ]
  },
  {
   "cell_type": "code",
   "execution_count": 9,
   "id": "82b9f104-dec1-43ee-accb-dfce3f1513eb",
   "metadata": {},
   "outputs": [
    {
     "data": {
      "text/plain": [
       "(7-9j)"
      ]
     },
     "execution_count": 9,
     "metadata": {},
     "output_type": "execute_result"
    }
   ],
   "source": [
    "l[-1]"
   ]
  },
  {
   "cell_type": "code",
   "execution_count": 10,
   "id": "ad02a796-81d0-473c-a4cc-c3dfac3531c4",
   "metadata": {},
   "outputs": [
    {
     "data": {
      "text/plain": [
       "['Hitesh', 2, 4.5, False, (7-9j)]"
      ]
     },
     "execution_count": 10,
     "metadata": {},
     "output_type": "execute_result"
    }
   ],
   "source": [
    "#modify\n",
    "#list are mutable\n",
    "l[0] = \"Hitesh\"\n",
    "l"
   ]
  },
  {
   "cell_type": "code",
   "execution_count": 11,
   "id": "019b881d-9b1d-4237-bc76-be6b66cc7689",
   "metadata": {},
   "outputs": [
    {
     "data": {
      "text/plain": [
       "['Hitesh', 2, 4.5, False, (5+9j)]"
      ]
     },
     "execution_count": 11,
     "metadata": {},
     "output_type": "execute_result"
    }
   ],
   "source": [
    "l[-1] = 5+9j\n",
    "l"
   ]
  },
  {
   "cell_type": "code",
   "execution_count": 12,
   "id": "94359c22-1f57-4c81-b5ef-11ee37ed294e",
   "metadata": {},
   "outputs": [
    {
     "data": {
      "text/plain": [
       "['Hitesh', 2, 4.5, False, (5+9j), 'Saujanya']"
      ]
     },
     "execution_count": 12,
     "metadata": {},
     "output_type": "execute_result"
    }
   ],
   "source": [
    "l.append(\"Saujanya\")    #add element in the end\n",
    "l                      "
   ]
  },
  {
   "cell_type": "code",
   "execution_count": 13,
   "id": "cfd46297-2d11-479a-abca-f6418c0c0f62",
   "metadata": {},
   "outputs": [
    {
     "data": {
      "text/plain": [
       "['Hitesh', 'Rutu', 2, 4.5, False, (5+9j), 'Saujanya']"
      ]
     },
     "execution_count": 13,
     "metadata": {},
     "output_type": "execute_result"
    }
   ],
   "source": [
    "l.insert(1,\"Rutu\") #insert object before index\n",
    "l"
   ]
  },
  {
   "cell_type": "code",
   "execution_count": 14,
   "id": "e111a35e-499b-4471-8705-91e7c5d86d17",
   "metadata": {},
   "outputs": [],
   "source": [
    "m = [\"a\",3.6,\"Ritesh\"]"
   ]
  },
  {
   "cell_type": "code",
   "execution_count": 15,
   "id": "f8bff0d9-ff01-4648-b055-a2959b13c812",
   "metadata": {},
   "outputs": [
    {
     "data": {
      "text/plain": [
       "['Hitesh', 'Rutu', 2, 4.5, False, (5+9j), 'Saujanya']"
      ]
     },
     "execution_count": 15,
     "metadata": {},
     "output_type": "execute_result"
    }
   ],
   "source": [
    "l"
   ]
  },
  {
   "cell_type": "code",
   "execution_count": 16,
   "id": "9d46dde8-79c3-4bd1-a52c-a17722fa70ea",
   "metadata": {},
   "outputs": [
    {
     "data": {
      "text/plain": [
       "['Hitesh', 'Rutu', 2, 4.5, False, (5+9j), 'Saujanya', 'a', 3.6, 'Ritesh']"
      ]
     },
     "execution_count": 16,
     "metadata": {},
     "output_type": "execute_result"
    }
   ],
   "source": [
    "l.extend(m)\n",
    "l          #will extend the 1st list"
   ]
  },
  {
   "cell_type": "code",
   "execution_count": 17,
   "id": "d163d564-a385-4b73-84fd-92743de4bd4a",
   "metadata": {},
   "outputs": [
    {
     "data": {
      "text/plain": [
       "['Hitesh', 'Rutu', 2, 4.5, False, (5+9j), 'Saujanya', 'a', 3.6, 'Ritesh']"
      ]
     },
     "execution_count": 17,
     "metadata": {},
     "output_type": "execute_result"
    }
   ],
   "source": [
    "#delete elements\n",
    "l"
   ]
  },
  {
   "cell_type": "code",
   "execution_count": 18,
   "id": "1dadb697-7f07-4672-aa29-7224f9ae0e8a",
   "metadata": {},
   "outputs": [
    {
     "data": {
      "text/plain": [
       "'Ritesh'"
      ]
     },
     "execution_count": 18,
     "metadata": {},
     "output_type": "execute_result"
    }
   ],
   "source": [
    "l.pop()#removes the last element"
   ]
  },
  {
   "cell_type": "code",
   "execution_count": 19,
   "id": "9c334a93-e776-4bcb-8259-caea39669ee1",
   "metadata": {},
   "outputs": [
    {
     "data": {
      "text/plain": [
       "['Hitesh', 'Rutu', 2, 4.5, False, (5+9j), 'Saujanya', 'a', 3.6]"
      ]
     },
     "execution_count": 19,
     "metadata": {},
     "output_type": "execute_result"
    }
   ],
   "source": [
    "l"
   ]
  },
  {
   "cell_type": "code",
   "execution_count": 21,
   "id": "9a967a2e-b6c7-4e90-91dc-ba6b2a2fd4b7",
   "metadata": {},
   "outputs": [],
   "source": [
    "l.remove(\"Hitesh\")"
   ]
  },
  {
   "cell_type": "code",
   "execution_count": 22,
   "id": "1329d8e3-949a-4f0b-ab3a-f89451790cb4",
   "metadata": {},
   "outputs": [
    {
     "data": {
      "text/plain": [
       "['Rutu', 2, 4.5, False, (5+9j), 'Saujanya', 'a', 3.6]"
      ]
     },
     "execution_count": 22,
     "metadata": {},
     "output_type": "execute_result"
    }
   ],
   "source": [
    "l"
   ]
  },
  {
   "cell_type": "code",
   "execution_count": 23,
   "id": "75814ba5-5682-45d5-a85f-b594eeb63cc7",
   "metadata": {},
   "outputs": [],
   "source": [
    "l.clear() #it deletes the element  of list, but variable list will not be deleted"
   ]
  },
  {
   "cell_type": "code",
   "execution_count": 24,
   "id": "016fcb43-b43f-4711-a4ae-18bdb12f11f2",
   "metadata": {},
   "outputs": [
    {
     "data": {
      "text/plain": [
       "[]"
      ]
     },
     "execution_count": 24,
     "metadata": {},
     "output_type": "execute_result"
    }
   ],
   "source": [
    "l"
   ]
  },
  {
   "cell_type": "code",
   "execution_count": null,
   "id": "a76b6b35-8ee3-47a3-bfa2-108b0dc8ac67",
   "metadata": {},
   "outputs": [],
   "source": []
  },
  {
   "cell_type": "code",
   "execution_count": null,
   "id": "d934929b-7d91-4796-a077-b1b7db537060",
   "metadata": {},
   "outputs": [],
   "source": []
  },
  {
   "cell_type": "code",
   "execution_count": 25,
   "id": "94beae97-62ad-4a1d-950b-3057afe319d7",
   "metadata": {},
   "outputs": [
    {
     "data": {
      "text/plain": [
       "('Aadarsh', 2, 6.8)"
      ]
     },
     "execution_count": 25,
     "metadata": {},
     "output_type": "execute_result"
    }
   ],
   "source": [
    "#4. Compare and contrast tuples and lists with examples.\n",
    "\n",
    "#List are ordered collection of items\n",
    "#Tuples are ordered collection of elements, similar to list\n",
    "my_tuple = (\"Aadarsh\", 2, 6.8)\n",
    "my_tuple"
   ]
  },
  {
   "cell_type": "code",
   "execution_count": 26,
   "id": "1bb3e7d9-e1d1-4a6a-a2c2-07194a225d6b",
   "metadata": {},
   "outputs": [
    {
     "data": {
      "text/plain": [
       "['Ritesh', 'Gaurav', 8.9, 30]"
      ]
     },
     "execution_count": 26,
     "metadata": {},
     "output_type": "execute_result"
    }
   ],
   "source": [
    "my_list = [\"Ritesh\", \"Gaurav\", 8.9, 30]\n",
    "my_list"
   ]
  },
  {
   "cell_type": "code",
   "execution_count": 27,
   "id": "94fbf234-4bdd-44db-950e-1764a90267c0",
   "metadata": {},
   "outputs": [],
   "source": [
    "#lists are mutable collection of elements,You can add, remove, or modify elements within a list using indexing and slicing. \n",
    "#Lists are versatile for storing and managing collections that might change.\n",
    "\n",
    "# Tuples are immutable collections of elements,You can access elements using indexing and slicing, but you cannot modify the content\n",
    "# once created, the items in a tuple cannot be changed. They provide a secure way to store data that shouldn't be modified."
   ]
  },
  {
   "cell_type": "code",
   "execution_count": 28,
   "id": "21bd4d91-38ef-4fdb-88dd-5b3fda426bbd",
   "metadata": {},
   "outputs": [
    {
     "ename": "TypeError",
     "evalue": "'tuple' object does not support item assignment",
     "output_type": "error",
     "traceback": [
      "\u001b[0;31m---------------------------------------------------------------------------\u001b[0m",
      "\u001b[0;31mTypeError\u001b[0m                                 Traceback (most recent call last)",
      "Cell \u001b[0;32mIn[28], line 2\u001b[0m\n\u001b[1;32m      1\u001b[0m my_tuple \u001b[38;5;241m=\u001b[39m (\u001b[38;5;124m\"\u001b[39m\u001b[38;5;124mAadarsh\u001b[39m\u001b[38;5;124m\"\u001b[39m, \u001b[38;5;241m2\u001b[39m, \u001b[38;5;241m6.8\u001b[39m)\n\u001b[0;32m----> 2\u001b[0m \u001b[43mmy_tuple\u001b[49m\u001b[43m[\u001b[49m\u001b[38;5;241;43m0\u001b[39;49m\u001b[43m]\u001b[49m \u001b[38;5;241m=\u001b[39m \u001b[38;5;124m\"\u001b[39m\u001b[38;5;124mHitesh\u001b[39m\u001b[38;5;124m\"\u001b[39m\n",
      "\u001b[0;31mTypeError\u001b[0m: 'tuple' object does not support item assignment"
     ]
    }
   ],
   "source": [
    "my_tuple = (\"Aadarsh\", 2, 6.8)\n",
    "my_tuple[0] = \"Hitesh\""
   ]
  },
  {
   "cell_type": "code",
   "execution_count": 29,
   "id": "9d0a16de-34f5-4ea7-982b-b0402dbca03d",
   "metadata": {},
   "outputs": [],
   "source": [
    "my_list = [\"Ritesh\", \"Gaurav\", 8.9, 30]\n",
    "my_list[0] = \"Hitesh\""
   ]
  },
  {
   "cell_type": "code",
   "execution_count": 30,
   "id": "34f6e23d-d697-4287-b330-078c6b6f6f77",
   "metadata": {},
   "outputs": [
    {
     "data": {
      "text/plain": [
       "['Hitesh', 'Gaurav', 8.9, 30]"
      ]
     },
     "execution_count": 30,
     "metadata": {},
     "output_type": "execute_result"
    }
   ],
   "source": [
    "my_list"
   ]
  },
  {
   "cell_type": "code",
   "execution_count": 31,
   "id": "ad794908-9b5b-4a53-b718-a97bebdd3e8f",
   "metadata": {},
   "outputs": [
    {
     "data": {
      "text/plain": [
       "('Aadarsh', 2, 6.8)"
      ]
     },
     "execution_count": 31,
     "metadata": {},
     "output_type": "execute_result"
    }
   ],
   "source": [
    "my_tuple"
   ]
  },
  {
   "cell_type": "code",
   "execution_count": 32,
   "id": "930f5af6-c85b-4a5f-9c35-93332111500b",
   "metadata": {},
   "outputs": [
    {
     "data": {
      "text/plain": [
       "6.8"
      ]
     },
     "execution_count": 32,
     "metadata": {},
     "output_type": "execute_result"
    }
   ],
   "source": [
    "my_tuple[2]"
   ]
  },
  {
   "cell_type": "code",
   "execution_count": null,
   "id": "413bf1e9-86e6-4125-980b-908e5a195361",
   "metadata": {},
   "outputs": [],
   "source": []
  },
  {
   "cell_type": "code",
   "execution_count": null,
   "id": "f8ad58fd-f1bd-4ed0-824d-706ec7187b07",
   "metadata": {},
   "outputs": [],
   "source": []
  },
  {
   "cell_type": "code",
   "execution_count": 33,
   "id": "ee28a2a9-71ce-40a9-8759-2567feb1bde1",
   "metadata": {},
   "outputs": [],
   "source": [
    "#5.Describe the key features of sets and provide examples of their use.\n",
    "\n",
    "#FEATURES:-\n",
    "#SETS>> are unordered and unique collection of elements\n",
    "#doesn't allow duplicate elements\n",
    "#Sets are useful for checking membership (if an item exists) or finding the intersection/difference between sets."
   ]
  },
  {
   "cell_type": "code",
   "execution_count": 34,
   "id": "7555fa89-bd48-427f-ae6b-cde4dd918cbf",
   "metadata": {},
   "outputs": [
    {
     "data": {
      "text/plain": [
       "{1, 2, 3, 'Apple', 'Brinjal'}"
      ]
     },
     "execution_count": 34,
     "metadata": {},
     "output_type": "execute_result"
    }
   ],
   "source": [
    "#use case\n",
    "list1 = [1,2,3,\"Brinjal\",\"Brinjal\",\"Apple\",\"Apple\"]\n",
    "s = set(list1)\n",
    "s"
   ]
  },
  {
   "cell_type": "code",
   "execution_count": 35,
   "id": "b18288f0-492c-49dc-8d65-e219b7c75fd5",
   "metadata": {},
   "outputs": [],
   "source": [
    "#use case\n",
    "my_cloth_list = {\"Black shirt\", \"White Tshirt\", \"Blue jeans\",\"Black shirt\"}"
   ]
  },
  {
   "cell_type": "code",
   "execution_count": 36,
   "id": "7c650b7b-6912-497e-945f-fb5a12b1e75c",
   "metadata": {},
   "outputs": [
    {
     "data": {
      "text/plain": [
       "{'Black shirt', 'Blue jeans', 'White Tshirt'}"
      ]
     },
     "execution_count": 36,
     "metadata": {},
     "output_type": "execute_result"
    }
   ],
   "source": [
    "my_cloth_list #removes repetetion."
   ]
  },
  {
   "cell_type": "code",
   "execution_count": null,
   "id": "0d987cb9-c32a-4297-b85c-75c6ccb1904f",
   "metadata": {},
   "outputs": [],
   "source": []
  },
  {
   "cell_type": "code",
   "execution_count": null,
   "id": "c2df30b9-ea2e-4290-b8c9-00c119fc1f06",
   "metadata": {},
   "outputs": [],
   "source": []
  },
  {
   "cell_type": "code",
   "execution_count": 37,
   "id": "670e9a19-eccc-4692-a137-a4f70d32a6cc",
   "metadata": {},
   "outputs": [
    {
     "data": {
      "text/plain": [
       "('Aadarsh', 2, 4.5, 'Data scientiest')"
      ]
     },
     "execution_count": 37,
     "metadata": {},
     "output_type": "execute_result"
    }
   ],
   "source": [
    "#6.Discuss the use cases of tuples and sets in Python programming.\n",
    "\n",
    "#use of tuples>>use tuples as a data structure where you don't want to modify the data\n",
    "tuples = (\"Aadarsh\", 2, 4.5, \"Data scientiest\" )\n",
    "tuples"
   ]
  },
  {
   "cell_type": "code",
   "execution_count": 38,
   "id": "74428af5-b990-4be2-91b8-02b330c50749",
   "metadata": {},
   "outputs": [
    {
     "ename": "TypeError",
     "evalue": "'tuple' object does not support item assignment",
     "output_type": "error",
     "traceback": [
      "\u001b[0;31m---------------------------------------------------------------------------\u001b[0m",
      "\u001b[0;31mTypeError\u001b[0m                                 Traceback (most recent call last)",
      "Cell \u001b[0;32mIn[38], line 1\u001b[0m\n\u001b[0;32m----> 1\u001b[0m \u001b[43mtuples\u001b[49m\u001b[43m[\u001b[49m\u001b[38;5;241;43m-\u001b[39;49m\u001b[38;5;241;43m1\u001b[39;49m\u001b[43m]\u001b[49m \u001b[38;5;241m=\u001b[39m \u001b[38;5;124m\"\u001b[39m\u001b[38;5;124mData analytics\u001b[39m\u001b[38;5;124m\"\u001b[39m \u001b[38;5;66;03m#it will throw an error\u001b[39;00m\n",
      "\u001b[0;31mTypeError\u001b[0m: 'tuple' object does not support item assignment"
     ]
    }
   ],
   "source": [
    "tuples[-1] = \"Data analytics\" #it will throw an error"
   ]
  },
  {
   "cell_type": "code",
   "execution_count": 39,
   "id": "01170476-cea3-4910-8057-c5c52a7dc3f0",
   "metadata": {},
   "outputs": [],
   "source": [
    "#use case of sets>> use sets as a data structure where you don't want to repete the data.\n",
    "my_upcoming_exams = {\"SSC\",\"Data scientiest interview\", \"PCS\", \"UPSC\", \"SSC\", \"PCS\"}"
   ]
  },
  {
   "cell_type": "code",
   "execution_count": 40,
   "id": "4147e392-535e-4889-ad7a-dc40ebbaab11",
   "metadata": {},
   "outputs": [
    {
     "data": {
      "text/plain": [
       "{'Data scientiest interview', 'PCS', 'SSC', 'UPSC'}"
      ]
     },
     "execution_count": 40,
     "metadata": {},
     "output_type": "execute_result"
    }
   ],
   "source": [
    "my_upcoming_exams "
   ]
  },
  {
   "cell_type": "code",
   "execution_count": null,
   "id": "255a623d-be27-40e5-b57a-7681c9a5e63a",
   "metadata": {},
   "outputs": [],
   "source": []
  },
  {
   "cell_type": "code",
   "execution_count": null,
   "id": "a16d284a-2546-48c9-9564-d6613e727b7c",
   "metadata": {},
   "outputs": [],
   "source": []
  },
  {
   "cell_type": "code",
   "execution_count": 41,
   "id": "3ff99fac-0fc2-4e81-ac41-5305e2053f89",
   "metadata": {},
   "outputs": [],
   "source": [
    "#7. Describe how to add, modify, and delete items in a dictionary with examples.\n",
    "\n",
    "#dictionary is a data structure that stores data as key value pair\n",
    "#keys are unique and immutable."
   ]
  },
  {
   "cell_type": "code",
   "execution_count": 42,
   "id": "c408782e-aa45-4c00-8f88-f3ac180ca6b9",
   "metadata": {},
   "outputs": [],
   "source": [
    "d = {\"name\":\"Aadarsh\", \"email\":\"palaadarsh91@gmail.com\", \"contact\":9155567890}"
   ]
  },
  {
   "cell_type": "code",
   "execution_count": 43,
   "id": "23e818a5-66e8-4c00-8e6b-93af8f25f357",
   "metadata": {},
   "outputs": [
    {
     "data": {
      "text/plain": [
       "{'name': 'Aadarsh', 'email': 'palaadarsh91@gmail.com', 'contact': 9155567890}"
      ]
     },
     "execution_count": 43,
     "metadata": {},
     "output_type": "execute_result"
    }
   ],
   "source": [
    "d"
   ]
  },
  {
   "cell_type": "code",
   "execution_count": 44,
   "id": "6b392e08-9772-4db0-84e3-b1f30986ead2",
   "metadata": {},
   "outputs": [],
   "source": [
    "d[\"address\"] = \"Mumbai\" #to creat a new key value pair"
   ]
  },
  {
   "cell_type": "code",
   "execution_count": 45,
   "id": "a62b929d-ee5e-4014-a3af-a556a7003469",
   "metadata": {},
   "outputs": [
    {
     "data": {
      "text/plain": [
       "{'name': 'Aadarsh',\n",
       " 'email': 'palaadarsh91@gmail.com',\n",
       " 'contact': 9155567890,\n",
       " 'address': 'Mumbai'}"
      ]
     },
     "execution_count": 45,
     "metadata": {},
     "output_type": "execute_result"
    }
   ],
   "source": [
    "d"
   ]
  },
  {
   "cell_type": "code",
   "execution_count": 46,
   "id": "6926a0d9-5a27-4600-9cee-193b924c3472",
   "metadata": {},
   "outputs": [],
   "source": [
    "d1 = {\"cource\":\"data scientiest\"}"
   ]
  },
  {
   "cell_type": "code",
   "execution_count": 47,
   "id": "cc44b881-d257-4207-a206-7a88d9073a8f",
   "metadata": {},
   "outputs": [
    {
     "data": {
      "text/plain": [
       "{'cource': 'data scientiest'}"
      ]
     },
     "execution_count": 47,
     "metadata": {},
     "output_type": "execute_result"
    }
   ],
   "source": [
    "d1"
   ]
  },
  {
   "cell_type": "code",
   "execution_count": 48,
   "id": "3cfb49d7-5c6f-4234-80c8-6b9bec3db9db",
   "metadata": {},
   "outputs": [],
   "source": [
    "d.update(d1)"
   ]
  },
  {
   "cell_type": "code",
   "execution_count": 49,
   "id": "bdc0d97a-776b-4792-afff-321d40cd7116",
   "metadata": {},
   "outputs": [
    {
     "data": {
      "text/plain": [
       "{'name': 'Aadarsh',\n",
       " 'email': 'palaadarsh91@gmail.com',\n",
       " 'contact': 9155567890,\n",
       " 'address': 'Mumbai',\n",
       " 'cource': 'data scientiest'}"
      ]
     },
     "execution_count": 49,
     "metadata": {},
     "output_type": "execute_result"
    }
   ],
   "source": [
    "d"
   ]
  },
  {
   "cell_type": "code",
   "execution_count": 50,
   "id": "3c2d278d-8cf2-4403-8cbe-c0f33a7037c5",
   "metadata": {},
   "outputs": [
    {
     "data": {
      "text/plain": [
       "'data scientiest'"
      ]
     },
     "execution_count": 50,
     "metadata": {},
     "output_type": "execute_result"
    }
   ],
   "source": [
    "#to delete elements\n",
    "\n",
    "d.pop(\"cource\")"
   ]
  },
  {
   "cell_type": "code",
   "execution_count": 51,
   "id": "deccc036-e84f-46ee-a31b-da1a274c56ef",
   "metadata": {},
   "outputs": [
    {
     "data": {
      "text/plain": [
       "{'name': 'Aadarsh',\n",
       " 'email': 'palaadarsh91@gmail.com',\n",
       " 'contact': 9155567890,\n",
       " 'address': 'Mumbai'}"
      ]
     },
     "execution_count": 51,
     "metadata": {},
     "output_type": "execute_result"
    }
   ],
   "source": [
    "d"
   ]
  },
  {
   "cell_type": "code",
   "execution_count": 52,
   "id": "1c8683dd-18e6-412b-a0a6-d715edac9696",
   "metadata": {},
   "outputs": [],
   "source": [
    "del (d1)"
   ]
  },
  {
   "cell_type": "code",
   "execution_count": 53,
   "id": "d963aab2-2ed2-4552-9ce4-c2d532d68c7f",
   "metadata": {},
   "outputs": [
    {
     "ename": "NameError",
     "evalue": "name 'd1' is not defined",
     "output_type": "error",
     "traceback": [
      "\u001b[0;31m---------------------------------------------------------------------------\u001b[0m",
      "\u001b[0;31mNameError\u001b[0m                                 Traceback (most recent call last)",
      "Cell \u001b[0;32mIn[53], line 1\u001b[0m\n\u001b[0;32m----> 1\u001b[0m \u001b[43md1\u001b[49m\n",
      "\u001b[0;31mNameError\u001b[0m: name 'd1' is not defined"
     ]
    }
   ],
   "source": [
    "d1"
   ]
  },
  {
   "cell_type": "code",
   "execution_count": 54,
   "id": "058ffe4a-8e90-450c-9a47-336d89b2ae80",
   "metadata": {},
   "outputs": [],
   "source": [
    "d.clear()"
   ]
  },
  {
   "cell_type": "code",
   "execution_count": 55,
   "id": "17b6901c-1fc1-4f34-8b1c-b97d18d74532",
   "metadata": {},
   "outputs": [
    {
     "data": {
      "text/plain": [
       "{}"
      ]
     },
     "execution_count": 55,
     "metadata": {},
     "output_type": "execute_result"
    }
   ],
   "source": [
    "d"
   ]
  },
  {
   "cell_type": "code",
   "execution_count": null,
   "id": "14de6d0d-90d5-4e39-b0d2-108c8dc26abc",
   "metadata": {},
   "outputs": [],
   "source": []
  },
  {
   "cell_type": "code",
   "execution_count": null,
   "id": "fbd5c939-eb0e-47dc-bb8e-5202ed543fc2",
   "metadata": {},
   "outputs": [],
   "source": []
  },
  {
   "cell_type": "code",
   "execution_count": 58,
   "id": "9f02b10d-8211-4237-abdb-227b96c3f544",
   "metadata": {},
   "outputs": [],
   "source": [
    "#8. Discuss the importance of dictionary keys being immutable and provide example.\n",
    "\n",
    "#If the key were a mutable object, its value could change.\n",
    "#But since whoever changes the key object can't tell that it was being used as a dictionary key, \n",
    "#it can't move the entry around in the dictionary."
   ]
  },
  {
   "cell_type": "code",
   "execution_count": 59,
   "id": "849d9349-ea76-45d5-80a9-1bd9cf57106e",
   "metadata": {},
   "outputs": [
    {
     "data": {
      "text/plain": [
       "{1: 'abc'}"
      ]
     },
     "execution_count": 59,
     "metadata": {},
     "output_type": "execute_result"
    }
   ],
   "source": [
    "d = {1:\"abc\"} #integers as key\n",
    "d"
   ]
  },
  {
   "cell_type": "code",
   "execution_count": 60,
   "id": "2d6888c9-4df9-449f-b96d-d028b939d508",
   "metadata": {},
   "outputs": [
    {
     "data": {
      "text/plain": [
       "{1.2: 'abc'}"
      ]
     },
     "execution_count": 60,
     "metadata": {},
     "output_type": "execute_result"
    }
   ],
   "source": [
    "d ={1.2:\"abc\"}#float as key\n",
    "d"
   ]
  },
  {
   "cell_type": "code",
   "execution_count": 61,
   "id": "78aa5512-f808-427d-83b9-1f5b058ab823",
   "metadata": {},
   "outputs": [
    {
     "data": {
      "text/plain": [
       "{True: 2}"
      ]
     },
     "execution_count": 61,
     "metadata": {},
     "output_type": "execute_result"
    }
   ],
   "source": [
    "d = {True:2} # boolean values also can be key of dictionary\n",
    "d"
   ]
  },
  {
   "cell_type": "code",
   "execution_count": 62,
   "id": "061c6e8e-d28a-44af-b079-446f2d294e64",
   "metadata": {},
   "outputs": [
    {
     "ename": "SyntaxError",
     "evalue": "incomplete input (550532827.py, line 2)",
     "output_type": "error",
     "traceback": [
      "\u001b[0;36m  Cell \u001b[0;32mIn[62], line 2\u001b[0;36m\u001b[0m\n\u001b[0;31m    d\u001b[0m\n\u001b[0m     ^\u001b[0m\n\u001b[0;31mSyntaxError\u001b[0m\u001b[0;31m:\u001b[0m incomplete input\n"
     ]
    }
   ],
   "source": [
    "d = {#:123} #you cannot have # as a key\n",
    "d"
   ]
  },
  {
   "cell_type": "code",
   "execution_count": 63,
   "id": "001230ca-0547-47bc-9413-2ea876c9f4e4",
   "metadata": {},
   "outputs": [
    {
     "ename": "SyntaxError",
     "evalue": "invalid syntax (3924924512.py, line 1)",
     "output_type": "error",
     "traceback": [
      "\u001b[0;36m  Cell \u001b[0;32mIn[63], line 1\u001b[0;36m\u001b[0m\n\u001b[0;31m    d = {@:\"rAM\"}\u001b[0m\n\u001b[0m         ^\u001b[0m\n\u001b[0;31mSyntaxError\u001b[0m\u001b[0;31m:\u001b[0m invalid syntax\n"
     ]
    }
   ],
   "source": [
    "d = {@:\"rAM\"}"
   ]
  },
  {
   "cell_type": "code",
   "execution_count": 64,
   "id": "992f5554-c157-4a42-8ba9-76ad25512784",
   "metadata": {},
   "outputs": [
    {
     "data": {
      "text/plain": [
       "{(1, 2, 3): 'Aadarsh'}"
      ]
     },
     "execution_count": 64,
     "metadata": {},
     "output_type": "execute_result"
    }
   ],
   "source": [
    "d = {(1,2,3):\"Aadarsh\"}#Tuples can be a key\n",
    "d"
   ]
  },
  {
   "cell_type": "code",
   "execution_count": 65,
   "id": "1ca44152-02d1-4e2a-8521-c9850bd1b3a3",
   "metadata": {},
   "outputs": [
    {
     "ename": "TypeError",
     "evalue": "unhashable type: 'set'",
     "output_type": "error",
     "traceback": [
      "\u001b[0;31m---------------------------------------------------------------------------\u001b[0m",
      "\u001b[0;31mTypeError\u001b[0m                                 Traceback (most recent call last)",
      "Cell \u001b[0;32mIn[65], line 1\u001b[0m\n\u001b[0;32m----> 1\u001b[0m d \u001b[38;5;241m=\u001b[39m{{\u001b[38;5;241m1\u001b[39m,\u001b[38;5;241m2\u001b[39m,\u001b[38;5;241m3\u001b[39m}: \u001b[38;5;124m\"\u001b[39m\u001b[38;5;124mAjay\u001b[39m\u001b[38;5;124m\"\u001b[39m} \u001b[38;5;66;03m#set cannot be a key\u001b[39;00m\n\u001b[1;32m      2\u001b[0m d\n",
      "\u001b[0;31mTypeError\u001b[0m: unhashable type: 'set'"
     ]
    }
   ],
   "source": [
    "d ={{1,2,3}: \"Ajay\"} #set cannot be a key\n",
    "d"
   ]
  }
 ],
 "metadata": {
  "kernelspec": {
   "display_name": "Python 3 (ipykernel)",
   "language": "python",
   "name": "python3"
  },
  "language_info": {
   "codemirror_mode": {
    "name": "ipython",
    "version": 3
   },
   "file_extension": ".py",
   "mimetype": "text/x-python",
   "name": "python",
   "nbconvert_exporter": "python",
   "pygments_lexer": "ipython3",
   "version": "3.10.8"
  }
 },
 "nbformat": 4,
 "nbformat_minor": 5
}
